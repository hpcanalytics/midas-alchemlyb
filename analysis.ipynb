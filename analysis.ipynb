{
 "cells": [
  {
   "cell_type": "markdown",
   "metadata": {},
   "source": [
    "Let's get a full cycle estimate for each protonation state we are sampling. We'll also need to calculate analytically the cost of the restraint on the ion in solution, which will also let us take into account the standard state. For each state we should do brief convergence checks."
   ]
  },
  {
   "cell_type": "code",
   "execution_count": 1,
   "metadata": {
    "collapsed": true
   },
   "outputs": [],
   "source": [
    "import alchemlyb"
   ]
  },
  {
   "cell_type": "code",
   "execution_count": 2,
   "metadata": {
    "collapsed": true
   },
   "outputs": [],
   "source": [
    "import mdsynthesis as mds\n",
    "from dask.delayed import delayed\n",
    "import os.path\n",
    "import pandas as pd\n",
    "\n",
    "from alchemlyb.preprocessing import slicing\n",
    "from alchemlyb.parsing.gmx import extract_dHdl\n",
    "\n",
    "from dask.distributed import Client, LocalCluster"
   ]
  },
  {
   "cell_type": "code",
   "execution_count": 3,
   "metadata": {
    "collapsed": true
   },
   "outputs": [],
   "source": [
    "T = 310\n",
    "k_b = 8.3144621E-3"
   ]
  },
  {
   "cell_type": "markdown",
   "metadata": {},
   "source": [
    "### YOU CAN RUN THE CELL AT THE BOTTOM OF THE NEXT SECTION TO BYPASS ALL OF THIS IF YOU WOULD LIKE"
   ]
  },
  {
   "cell_type": "markdown",
   "metadata": {},
   "source": [
    "## Analytic removal of restraint"
   ]
  },
  {
   "cell_type": "markdown",
   "metadata": {},
   "source": [
    "We need to calculate the cost of removing the restraint, but it is not really possible to get this from simulation results. We can, however, get this analytically. We need to obtain:\n",
    "\n",
    "$$ \\Delta G_r = -kT \\ln{\\frac{Z_P Z_L}{Z_{CL}}} $$\n",
    "\n",
    "where $Z_P$ is the partition function of the protein, which in general we cannot calculate, $Z_L$ is the partition function of the free ligand (noninteracting with the protein or the rest of the system), and $Z_{CL}$ is the partition function of the protein + restrained ligand. For $\\Delta G_r$ to be easily calculable, then $Z_{CL}$ must be separable like:\n",
    "\n",
    "$$ Z_{CL} = Z_P \\times Z_r \\times \\tilde{Z_L} $$\n",
    "\n",
    "Where $Z_r$ is the partition function of the restraint itself, and $\\tilde{Z_L}$ is the partition function of the internal degrees of freedom of the ligand. For a point particle, this is $\\tilde{Z_L} = 1$. The reason this is $\\tilde{Z_L}$ and not $Z_L$ is because external degrees of freedom for the ligand are accounted for in the protein and the restraint. Also, note then:\n",
    "\n",
    "$$ Z_L = V \\tilde{Z_L} $$\n",
    "\n",
    "since the partition function for the external degrees of freedom of a noninteracting point particle is simply the volume of the space it can explore.\n",
    "\n",
    "So for $\\Delta G$ we get:\n",
    "\n",
    "$$ \\Delta G_r = -kT \\ln{\\frac{Z_P Z_L}{Z_P Z_r \\tilde{Z_L}}} = -kT \\ln{\\frac{V}{Z_r}} $$\n",
    "\n",
    "and so we only need $Z_r$, which we can at least express analytically:\n",
    "\n",
    "$$ Z_r = \\int_{0}^{2\\pi}\\int_{0}^{\\pi}\\int_{0}^{\\infty} dr\\,r\\,d\\theta\\,r\\,\\sin(\\theta)\\,d\\phi\\,e^{-\\beta (U_{\\theta}(\\vec{r}) + U_r(\\vec{r}))} $$\n",
    "$$ Z_r = 2\\pi \\int_{0}^{\\pi} e^{-\\beta U_{\\theta}(\\theta)}\\,\\sin(\\theta)\\,d\\theta \\, \\int_{0}^{\\infty} r^2\\,e^{-\\beta U_r(r)}\\,dr $$\n",
    "\n",
    "And where we have for the restraints:\n",
    "\n",
    "$$ U_{\\theta}(\\theta) = \\frac{1}{2} k_{\\theta} (\\theta - \\theta_0)^2 $$\n",
    "$$ U_{r}(r) = \\frac{1}{2} k_{r} (r - r_0)^2 $$"
   ]
  },
  {
   "cell_type": "code",
   "execution_count": 4,
   "metadata": {
    "collapsed": true
   },
   "outputs": [],
   "source": [
    "import sympy\n",
    "sympy.init_printing(use_unicode=True)"
   ]
  },
  {
   "cell_type": "code",
   "execution_count": 5,
   "metadata": {
    "collapsed": true
   },
   "outputs": [],
   "source": [
    "r, theta, k_r, k_theta, r_0, theta_0, beta, V = sympy.symbols('r theta k_r k_theta r_0 theta_0 beta V')"
   ]
  },
  {
   "cell_type": "code",
   "execution_count": 6,
   "metadata": {
    "collapsed": true
   },
   "outputs": [],
   "source": [
    "subs = {k_theta: 23.0,\n",
    "        k_r: 16000.0,\n",
    "        r_0: 0.275,\n",
    "        theta_0: 0.0,\n",
    "        beta : 1/(8.3144621E-3 * 310),\n",
    "        V: 1.6605778811026237}  # standard volume in nm^3"
   ]
  },
  {
   "cell_type": "markdown",
   "metadata": {},
   "source": [
    "The $\\theta$ integral:"
   ]
  },
  {
   "cell_type": "code",
   "execution_count": 7,
   "metadata": {},
   "outputs": [
    {
     "data": {
      "image/png": "[encoded data removed]",
      "text/latex": [
       "$$\\int_{0}^{\\pi} e^{- \\frac{\\beta k_{\\theta}}{2} \\left(\\theta - \\theta_{0}\\right)^{2}} \\sin{\\left (\\theta \\right )}\\, d\\theta$$"
      ],
      "text/plain": [
       "π                             \n",
       "⌠                             \n",
       "⎮                 2           \n",
       "⎮  -β⋅k_θ⋅(θ - θ₀)            \n",
       "⎮  ─────────────────          \n",
       "⎮          2                  \n",
       "⎮ ℯ                 ⋅sin(θ) dθ\n",
       "⌡                             \n",
       "0                             "
      ]
     },
     "execution_count": 7,
     "metadata": {},
     "output_type": "execute_result"
    }
   ],
   "source": [
    "f_theta = sympy.exp(-(beta * k_theta/2) * (theta - theta_0)**2 ) * sympy.sin(theta)\n",
    "Z_rtheta = sympy.Integral(f_theta, (theta, 0, sympy.pi))\n",
    "Z_rtheta"
   ]
  },
  {
   "cell_type": "code",
   "execution_count": 8,
   "metadata": {},
   "outputs": [
    {
     "data": {
      "image/png": "[encoded data removed]",
      "text/latex": [
       "$$0.107970679482509$$"
      ],
      "text/plain": [
       "0.107970679482509"
      ]
     },
     "execution_count": 8,
     "metadata": {},
     "output_type": "execute_result"
    }
   ],
   "source": [
    "Z_rtheta.subs(subs).evalf()"
   ]
  },
  {
   "cell_type": "markdown",
   "metadata": {},
   "source": [
    "The $r$ integral:"
   ]
  },
  {
   "cell_type": "code",
   "execution_count": 9,
   "metadata": {},
   "outputs": [
    {
     "data": {
      "image/png": "[encoded data removed]",
      "text/latex": [
       "$$\\int_{0}^{\\infty} r^{2} e^{- \\frac{\\beta k_{r}}{2} \\left(r - r_{0}\\right)^{2}}\\, dr$$"
      ],
      "text/plain": [
       "∞                        \n",
       "⌠                        \n",
       "⎮                   2    \n",
       "⎮     -β⋅kᵣ⋅(r - r₀)     \n",
       "⎮     ────────────────   \n",
       "⎮  2         2           \n",
       "⎮ r ⋅ℯ                 dr\n",
       "⌡                        \n",
       "0                        "
      ]
     },
     "execution_count": 9,
     "metadata": {},
     "output_type": "execute_result"
    }
   ],
   "source": [
    "f_r = sympy.exp(-(beta * k_r/2) * (r - r_0)**2 ) * r**2\n",
    "Z_rr = sympy.Integral(f_r, (r, 0, sympy.oo))\n",
    "Z_rr"
   ]
  },
  {
   "cell_type": "code",
   "execution_count": 10,
   "metadata": {},
   "outputs": [
    {
     "data": {
      "image/png": "[encoded data removed]",
      "text/latex": [
       "$$0.00241111200561217$$"
      ],
      "text/plain": [
       "0.00241111200561217"
      ]
     },
     "execution_count": 10,
     "metadata": {},
     "output_type": "execute_result"
    }
   ],
   "source": [
    "Z_rr.subs(subs).evalf()"
   ]
  },
  {
   "cell_type": "markdown",
   "metadata": {},
   "source": [
    "So we get for $Z_r$:"
   ]
  },
  {
   "cell_type": "code",
   "execution_count": 11,
   "metadata": {},
   "outputs": [
    {
     "data": {
      "image/png": "[encoded data removed]",
      "text/latex": [
       "$$2 \\pi \\left(\\int_{0}^{\\infty} r^{2} e^{- \\frac{\\beta k_{r}}{2} \\left(r - r_{0}\\right)^{2}}\\, dr\\right) \\int_{0}^{\\pi} e^{- \\frac{\\beta k_{\\theta}}{2} \\left(\\theta - \\theta_{0}\\right)^{2}} \\sin{\\left (\\theta \\right )}\\, d\\theta$$"
      ],
      "text/plain": [
       "    ⎛∞                        ⎞ π                             \n",
       "    ⎜⌠                        ⎟ ⌠                             \n",
       "    ⎜⎮                   2    ⎟ ⎮                 2           \n",
       "    ⎜⎮     -β⋅kᵣ⋅(r - r₀)     ⎟ ⎮  -β⋅k_θ⋅(θ - θ₀)            \n",
       "    ⎜⎮     ────────────────   ⎟ ⎮  ─────────────────          \n",
       "    ⎜⎮  2         2           ⎟ ⎮          2                  \n",
       "2⋅π⋅⎜⎮ r ⋅ℯ                 dr⎟⋅⎮ ℯ                 ⋅sin(θ) dθ\n",
       "    ⎜⌡                        ⎟ ⌡                             \n",
       "    ⎝0                        ⎠ 0                             "
      ]
     },
     "execution_count": 11,
     "metadata": {},
     "output_type": "execute_result"
    }
   ],
   "source": [
    "Z_r = 2 * sympy.pi * Z_rtheta * Z_rr\n",
    "Z_r"
   ]
  },
  {
   "cell_type": "code",
   "execution_count": 12,
   "metadata": {},
   "outputs": [
    {
     "data": {
      "image/png": "[encoded data removed]",
      "text/latex": [
       "$$0.00163569787087335$$"
      ],
      "text/plain": [
       "0.00163569787087335"
      ]
     },
     "execution_count": 12,
     "metadata": {},
     "output_type": "execute_result"
    }
   ],
   "source": [
    "Z_r.subs(subs).evalf()"
   ]
  },
  {
   "cell_type": "markdown",
   "metadata": {},
   "source": [
    "And therefore $\\Delta G_r$ is:"
   ]
  },
  {
   "cell_type": "code",
   "execution_count": 13,
   "metadata": {},
   "outputs": [
    {
     "data": {
      "image/png": "[encoded data removed]",
      "text/latex": [
       "$$- \\frac{1}{\\beta} \\log{\\left (\\frac{V}{2 \\pi \\left(\\int_{0}^{\\infty} r^{2} e^{- \\frac{\\beta k_{r}}{2} \\left(r - r_{0}\\right)^{2}}\\, dr\\right) \\int_{0}^{\\pi} e^{- \\frac{\\beta k_{\\theta}}{2} \\left(\\theta - \\theta_{0}\\right)^{2}} \\sin{\\left (\\theta \\right )}\\, d\\theta} \\right )}$$"
      ],
      "text/plain": [
       "    ⎛                              V                               ⎞ \n",
       "-log⎜──────────────────────────────────────────────────────────────⎟ \n",
       "    ⎜    ⎛∞                        ⎞ π                             ⎟ \n",
       "    ⎜    ⎜⌠                        ⎟ ⌠                             ⎟ \n",
       "    ⎜    ⎜⎮                   2    ⎟ ⎮                 2           ⎟ \n",
       "    ⎜    ⎜⎮     -β⋅kᵣ⋅(r - r₀)     ⎟ ⎮  -β⋅k_θ⋅(θ - θ₀)            ⎟ \n",
       "    ⎜    ⎜⎮     ────────────────   ⎟ ⎮  ─────────────────          ⎟ \n",
       "    ⎜    ⎜⎮  2         2           ⎟ ⎮          2                  ⎟ \n",
       "    ⎜2⋅π⋅⎜⎮ r ⋅ℯ                 dr⎟⋅⎮ ℯ                 ⋅sin(θ) dθ⎟ \n",
       "    ⎜    ⎜⌡                        ⎟ ⌡                             ⎟ \n",
       "    ⎝    ⎝0                        ⎠ 0                             ⎠ \n",
       "─────────────────────────────────────────────────────────────────────\n",
       "                                  β                                  "
      ]
     },
     "execution_count": 13,
     "metadata": {},
     "output_type": "execute_result"
    }
   ],
   "source": [
    "DG_r = - 1/beta * sympy.ln(V/Z_r)\n",
    "DG_r"
   ]
  },
  {
   "cell_type": "code",
   "execution_count": 15,
   "metadata": {},
   "outputs": [
    {
     "data": {
      "image/png": "[encoded data removed]",
      "text/latex": [
       "$$-17.8435335231149$$"
      ],
      "text/plain": [
       "-17.8435335231149"
      ]
     },
     "execution_count": 15,
     "metadata": {},
     "output_type": "execute_result"
    }
   ],
   "source": [
    "DG_r_unbind = DG_r.subs(subs).evalf()\n",
    "DG_r_unbind"
   ]
  },
  {
   "cell_type": "code",
   "execution_count": 94,
   "metadata": {
    "collapsed": true
   },
   "outputs": [],
   "source": [
    "DG_r_unbind = -17.8435335231149 # why keep computing the same thing"
   ]
  },
  {
   "cell_type": "markdown",
   "metadata": {},
   "source": [
    "# Free energy difference from data"
   ]
  },
  {
   "cell_type": "markdown",
   "metadata": {},
   "source": [
    "We now need to define a couple of functions that will make our analysis cleaner."
   ]
  },
  {
   "cell_type": "code",
   "execution_count": 17,
   "metadata": {
    "collapsed": true
   },
   "outputs": [],
   "source": [
    "def get_dHdl_XVG(sim, lower=None, upper=None, step=None):\n",
    "    dHdls = []\n",
    "    for xvg in sim['WORK/dhdl/'].glob('*.xvg'):\n",
    "        dHdls.append(extract_dHdl(xvg.abspath, T=T))\n",
    "    return slicing(pd.concat(dHdls).sort_index(0), \n",
    "                   lower=lower, \n",
    "                   upper=upper, \n",
    "                   step=step)"
   ]
  },
  {
   "cell_type": "markdown",
   "metadata": {},
   "source": [
    "This function will collect the dHdl data from a sim, which should contain multiple XVG files"
   ]
  },
  {
   "cell_type": "code",
   "execution_count": 18,
   "metadata": {
    "collapsed": true
   },
   "outputs": [],
   "source": [
    "def get_dHdl(sim, lower=None, upper=None, step=None):\n",
    "    try:\n",
    "        dHdl = sim.data.retrieve('dHdl')\n",
    "        \n",
    "        if dHdl is None:\n",
    "            dHdl = get_dHdl_XVG(sim, lower=lower, upper=upper, step=step)\n",
    "\n",
    "        \n",
    "        dHdl = slicing(dHdl.sort_index(0), \n",
    "                       lower=lower, \n",
    "                       upper=upper, \n",
    "                       step=step)\n",
    "    except:\n",
    "        # THIS WILL NOT STORE THE VALUE FOR LATER USE SO YOU SHOULD REALLY\n",
    "        # CONTINUOUSLY UPDATE THE dHdl DATA IN THE SIMS\n",
    "        dHdl = get_dHdl_XVG(sim, lower=lower, upper=upper, step=step) \n",
    "    \n",
    "    return dHdl"
   ]
  },
  {
   "cell_type": "markdown",
   "metadata": {},
   "source": [
    "Given a sim, we would like to know if we have already stored the processed XVG data in the sim's data. If not, then we need to extract it using the the function at the top of this section."
   ]
  },
  {
   "cell_type": "code",
   "execution_count": 30,
   "metadata": {
    "collapsed": true
   },
   "outputs": [],
   "source": [
    "from alchemlyb.estimators import TI\n",
    "\n",
    "def get_TI(dHdl):\n",
    "    ti = TI().fit(dHdl)\n",
    "    df = pd.DataFrame({'DG': k_b * T * ti.delta_f_.values[0,-1:], \n",
    "                       'std': k_b * T * ti.d_delta_f_.values[0,-1:]},\n",
    "                      columns=['DG', 'std'])\n",
    "\n",
    "    return df"
   ]
  },
  {
   "cell_type": "markdown",
   "metadata": {},
   "source": [
    "Provided that we have the dHdl data, we should in principle be able to compute the free energy difference between our two end states."
   ]
  },
  {
   "cell_type": "markdown",
   "metadata": {},
   "source": [
    "With these functions, we should be able to build the final binding free energy for our different states."
   ]
  },
  {
   "cell_type": "code",
   "execution_count": 23,
   "metadata": {
    "collapsed": true
   },
   "outputs": [],
   "source": [
    "cl = Client()"
   ]
  },
  {
   "cell_type": "markdown",
   "metadata": {},
   "source": [
    "# Ion in solution"
   ]
  },
  {
   "cell_type": "markdown",
   "metadata": {},
   "source": [
    "We want to collect the free energies for the legs of the ion in solution."
   ]
  },
  {
   "cell_type": "markdown",
   "metadata": {},
   "source": [
    "Collect all of the sims, i.e. 2 groups of $\\lambda$ windows"
   ]
  },
  {
   "cell_type": "code",
   "execution_count": 31,
   "metadata": {
    "collapsed": true
   },
   "outputs": [],
   "source": [
    "ionsegs = {'repulsion_to_ghost': mds.discover('/nfs/homes3/dldotson/Projects/Transporters/SYSTEMS/Na/repulsion_to_ghost/production1/'),\n",
    "           'ghost_to_ion': mds.discover('/nfs/homes3/dldotson/Projects/Transporters/SYSTEMS/Na/ghost_to_ion/production1/')}"
   ]
  },
  {
   "cell_type": "markdown",
   "metadata": {},
   "source": [
    "We then iterate over each group of windows and create a list of the dHdl dataframes that are then concatenated. The concatenated dataframes are then used in the TI estimator from alchemlyb."
   ]
  },
  {
   "cell_type": "code",
   "execution_count": 32,
   "metadata": {
    "collapsed": true
   },
   "outputs": [],
   "source": [
    "dHdls = {}\n",
    "for seg in ionsegs:\n",
    "    dHdls[seg] = [delayed(get_dHdl, pure=True)(sim, lower=5000, step=200)\n",
    "                                for sim in ionsegs[seg]]"
   ]
  },
  {
   "cell_type": "code",
   "execution_count": 33,
   "metadata": {},
   "outputs": [],
   "source": [
    "L_ionDG = {}\n",
    "for seg in ionsegs:\n",
    "    iondg_d = delayed(get_TI)(delayed(pd.concat)(dHdls[seg]))\n",
    "    L_ionDG[seg] = cl.compute(iondg_d)"
   ]
  },
  {
   "cell_type": "code",
   "execution_count": 34,
   "metadata": {},
   "outputs": [],
   "source": [
    "ionDG = cl.gather(L_ionDG)"
   ]
  },
  {
   "cell_type": "markdown",
   "metadata": {},
   "source": [
    "The resulting values for each group are then accumulated"
   ]
  },
  {
   "cell_type": "code",
   "execution_count": 35,
   "metadata": {
    "collapsed": true
   },
   "outputs": [],
   "source": [
    "dfs = []\n",
    "for seg in ionDG:\n",
    "    df = ionDG[seg]\n",
    "    df['segment'] = seg\n",
    "    dfs.append(df)"
   ]
  },
  {
   "cell_type": "code",
   "execution_count": 36,
   "metadata": {
    "collapsed": true
   },
   "outputs": [],
   "source": [
    "ionDG = pd.concat(dfs)"
   ]
  },
  {
   "cell_type": "code",
   "execution_count": 37,
   "metadata": {},
   "outputs": [],
   "source": [
    "ionDG = ionDG.set_index('segment')"
   ]
  },
  {
   "cell_type": "markdown",
   "metadata": {},
   "source": [
    "The `ghost_to_ion` leg was calculated in the reverse direction, so we should put a negative sign on it."
   ]
  },
  {
   "cell_type": "code",
   "execution_count": 38,
   "metadata": {
    "collapsed": true
   },
   "outputs": [],
   "source": [
    "ionDG.loc['ghost_to_ion', 'DG'] = -1 * ionDG.loc['ghost_to_ion', 'DG']"
   ]
  },
  {
   "cell_type": "code",
   "execution_count": 39,
   "metadata": {},
   "outputs": [
    {
     "data": {
      "text/html": [
       "<div>\n",
       "<table border=\"1\" class=\"dataframe\">\n",
       "  <thead>\n",
       "    <tr style=\"text-align: right;\">\n",
       "      <th></th>\n",
       "      <th>DG</th>\n",
       "      <th>std</th>\n",
       "    </tr>\n",
       "    <tr>\n",
       "      <th>segment</th>\n",
       "      <th></th>\n",
       "      <th></th>\n",
       "    </tr>\n",
       "  </thead>\n",
       "  <tbody>\n",
       "    <tr>\n",
       "      <th>ghost_to_ion</th>\n",
       "      <td>-374.104072</td>\n",
       "      <td>0.216224</td>\n",
       "    </tr>\n",
       "    <tr>\n",
       "      <th>repulsion_to_ghost</th>\n",
       "      <td>-0.247003</td>\n",
       "      <td>0.008093</td>\n",
       "    </tr>\n",
       "  </tbody>\n",
       "</table>\n",
       "</div>"
      ],
      "text/plain": [
       "                            DG       std\n",
       "segment                                 \n",
       "ghost_to_ion       -374.104072  0.216224\n",
       "repulsion_to_ghost   -0.247003  0.008093"
      ]
     },
     "execution_count": 39,
     "metadata": {},
     "output_type": "execute_result"
    }
   ],
   "source": [
    "ionDG"
   ]
  },
  {
   "cell_type": "markdown",
   "metadata": {},
   "source": [
    "The process shown above is general and can be used for any FEP dataset. The next section will be more a more complicated version of this.\n",
    "\n",
    "The final binding free energy value depends on this intermediate value."
   ]
  },
  {
   "cell_type": "markdown",
   "metadata": {},
   "source": [
    "# Complex + ion"
   ]
  },
  {
   "cell_type": "markdown",
   "metadata": {},
   "source": [
    "This is where a large amount of data need to be read in. In the simplest case, we would only include one of the below groups in the `segs` dictionary."
   ]
  },
  {
   "cell_type": "code",
   "execution_count": 40,
   "metadata": {
    "collapsed": true
   },
   "outputs": [],
   "source": [
    "topdir = mds.Tree('/nfs/homes4/workflows/Projects/Transporters/NapA/SYSTEMS/ionbinding/na/')"
   ]
  },
  {
   "cell_type": "code",
   "execution_count": 41,
   "metadata": {
    "collapsed": true
   },
   "outputs": [],
   "source": [
    "segs_s2if = {'unrestrained_to_restrained': mds.discover(topdir['if/S2/unrestrained_to_restrained/production1']),\n",
    "             'restrained_to_repulsion': mds.discover(topdir['if/S2/restrained_to_repulsion/production1/']),\n",
    "             'repulsion_to_ghostrepulsion': mds.discover(topdir['if/S2/repulsion_to_ghostrepulsion/production1/'])}"
   ]
  },
  {
   "cell_type": "code",
   "execution_count": 42,
   "metadata": {
    "collapsed": true
   },
   "outputs": [],
   "source": [
    "segs_s4if = {'unrestrained_to_restrained': mds.discover(topdir['if/S4/unrestrained_to_restrained/production1']),\n",
    "             'restrained_to_repulsion': mds.discover(topdir['if/S4/restrained_to_repulsion/production1/']),\n",
    "             'repulsion_to_ghostrepulsion': mds.discover(topdir['if/S4/repulsion_to_ghostrepulsion/production1/'])}"
   ]
  },
  {
   "cell_type": "code",
   "execution_count": 43,
   "metadata": {
    "collapsed": true
   },
   "outputs": [],
   "source": [
    "segs_s2of = {'unrestrained_to_restrained': mds.discover(topdir['of/S2/unrestrained_to_restrained/production1']),\n",
    "             'restrained_to_repulsion': mds.discover(topdir['of/S2/restrained_to_repulsion/production1/']),\n",
    "             'repulsion_to_ghostrepulsion': mds.discover(topdir['of/S2/repulsion_to_ghostrepulsion/production1/'])}"
   ]
  },
  {
   "cell_type": "code",
   "execution_count": 44,
   "metadata": {
    "collapsed": true
   },
   "outputs": [],
   "source": [
    "segs_s4of = {'unrestrained_to_restrained': mds.discover(topdir['of/S4/unrestrained_to_restrained/production1']),\n",
    "             'restrained_to_repulsion': mds.discover(topdir['of/S4/restrained_to_repulsion/production1/']),\n",
    "             'repulsion_to_ghostrepulsion': mds.discover(topdir['of/S4/repulsion_to_ghostrepulsion/production1/'])}"
   ]
  },
  {
   "cell_type": "code",
   "execution_count": 45,
   "metadata": {
    "collapsed": true
   },
   "outputs": [],
   "source": [
    "segs = {'s2if': segs_s2if,\n",
    "        's4if': segs_s4if,\n",
    "        's2of': segs_s2of,\n",
    "        's4of': segs_s4of}"
   ]
  },
  {
   "cell_type": "markdown",
   "metadata": {},
   "source": [
    "#### Using all data"
   ]
  },
  {
   "cell_type": "code",
   "execution_count": 47,
   "metadata": {},
   "outputs": [],
   "source": [
    "L_DG = {} \n",
    "\n",
    "for state in segs:\n",
    "    ddgs = {}\n",
    "    for seg in segs[state]:\n",
    "        dHdls = delayed(pd.concat)([delayed(get_dHdl)(sim, lower=5000, step=200)\n",
    "                                    for sim in segs[state][seg]])\n",
    "        ddgs[seg] = delayed(get_TI)(dHdls)\n",
    "    \n",
    "    L_DG[state] = {seg: cl.compute(ddgs[seg]) for seg in segs[state]}"
   ]
  },
  {
   "cell_type": "code",
   "execution_count": 48,
   "metadata": {
    "collapsed": true
   },
   "outputs": [],
   "source": [
    "DG = cl.gather(L_DG)"
   ]
  },
  {
   "cell_type": "code",
   "execution_count": 49,
   "metadata": {},
   "outputs": [
    {
     "data": {
      "text/plain": [
       "{'s2if': {'repulsion_to_ghostrepulsion':            DG       std\n",
       "  0  434.785893  0.067915, 'restrained_to_repulsion':          DG       std\n",
       "  0 -0.008853  0.002109, 'unrestrained_to_restrained':          DG       std\n",
       "  0  2.362626  0.027201},\n",
       " 's2of': {'repulsion_to_ghostrepulsion':            DG       std\n",
       "  0  419.959237  0.067933, 'restrained_to_repulsion':         DG       std\n",
       "  0  0.00009  0.000064, 'unrestrained_to_restrained':          DG       std\n",
       "  0  3.159437  0.065445},\n",
       " 's4if': {'repulsion_to_ghostrepulsion':            DG       std\n",
       "  0  479.045975  0.072704, 'restrained_to_repulsion':          DG       std\n",
       "  0  0.000371  0.000102, 'unrestrained_to_restrained':           DG       std\n",
       "  0  11.761585  0.047235},\n",
       " 's4of': {'repulsion_to_ghostrepulsion':            DG       std\n",
       "  0  421.070558  0.069138, 'restrained_to_repulsion':          DG       std\n",
       "  0 -0.000058  0.000207, 'unrestrained_to_restrained':           DG       std\n",
       "  0  13.293795  0.189712}}"
      ]
     },
     "execution_count": 49,
     "metadata": {},
     "output_type": "execute_result"
    }
   ],
   "source": [
    "DG"
   ]
  },
  {
   "cell_type": "markdown",
   "metadata": {},
   "source": [
    "## S2 IF"
   ]
  },
  {
   "cell_type": "code",
   "execution_count": 50,
   "metadata": {
    "collapsed": true
   },
   "outputs": [],
   "source": [
    "state = 's2if'"
   ]
  },
  {
   "cell_type": "code",
   "execution_count": 51,
   "metadata": {
    "collapsed": true
   },
   "outputs": [],
   "source": [
    "dfs = []\n",
    "for seg in DG[state]:\n",
    "    df = DG[state][seg]\n",
    "    df['segment'] = seg\n",
    "    dfs.append(df)"
   ]
  },
  {
   "cell_type": "code",
   "execution_count": 52,
   "metadata": {
    "collapsed": true
   },
   "outputs": [],
   "source": [
    "dfDG = pd.concat(dfs)"
   ]
  },
  {
   "cell_type": "code",
   "execution_count": 53,
   "metadata": {
    "collapsed": true
   },
   "outputs": [],
   "source": [
    "dfDG = dfDG.set_index('segment')"
   ]
  },
  {
   "cell_type": "code",
   "execution_count": 54,
   "metadata": {
    "collapsed": true
   },
   "outputs": [],
   "source": [
    "order = ['unrestrained_to_restrained', \n",
    "         'restrained_to_repulsion',\n",
    "         'repulsion_to_ghostrepulsion']"
   ]
  },
  {
   "cell_type": "code",
   "execution_count": 55,
   "metadata": {
    "collapsed": true
   },
   "outputs": [],
   "source": [
    "dfDG = dfDG.loc[order]"
   ]
  },
  {
   "cell_type": "code",
   "execution_count": 56,
   "metadata": {
    "scrolled": true
   },
   "outputs": [
    {
     "data": {
      "text/html": [
       "<div>\n",
       "<table border=\"1\" class=\"dataframe\">\n",
       "  <thead>\n",
       "    <tr style=\"text-align: right;\">\n",
       "      <th></th>\n",
       "      <th>DG</th>\n",
       "      <th>std</th>\n",
       "    </tr>\n",
       "    <tr>\n",
       "      <th>segment</th>\n",
       "      <th></th>\n",
       "      <th></th>\n",
       "    </tr>\n",
       "  </thead>\n",
       "  <tbody>\n",
       "    <tr>\n",
       "      <th>unrestrained_to_restrained</th>\n",
       "      <td>2.362626</td>\n",
       "      <td>0.027201</td>\n",
       "    </tr>\n",
       "    <tr>\n",
       "      <th>restrained_to_repulsion</th>\n",
       "      <td>-0.008853</td>\n",
       "      <td>0.002109</td>\n",
       "    </tr>\n",
       "    <tr>\n",
       "      <th>repulsion_to_ghostrepulsion</th>\n",
       "      <td>434.785893</td>\n",
       "      <td>0.067915</td>\n",
       "    </tr>\n",
       "  </tbody>\n",
       "</table>\n",
       "</div>"
      ],
      "text/plain": [
       "                                     DG       std\n",
       "segment                                          \n",
       "unrestrained_to_restrained     2.362626  0.027201\n",
       "restrained_to_repulsion       -0.008853  0.002109\n",
       "repulsion_to_ghostrepulsion  434.785893  0.067915"
      ]
     },
     "execution_count": 56,
     "metadata": {},
     "output_type": "execute_result"
    }
   ],
   "source": [
    "dfDG"
   ]
  },
  {
   "cell_type": "code",
   "execution_count": 57,
   "metadata": {},
   "outputs": [
    {
     "data": {
      "image/png": "[encoded data removed]",
      "text/latex": [
       "$$62.7885910023$$"
      ],
      "text/plain": [
       "62.7885910023"
      ]
     },
     "execution_count": 57,
     "metadata": {},
     "output_type": "execute_result"
    }
   ],
   "source": [
    "pd.concat([dfDG, ionDG])['DG'].sum()"
   ]
  },
  {
   "cell_type": "code",
   "execution_count": 58,
   "metadata": {},
   "outputs": [
    {
     "data": {
      "image/png": "[encoded data removed]",
      "text/latex": [
       "$$0.228418816637$$"
      ],
      "text/plain": [
       "0.228418816637"
      ]
     },
     "execution_count": 58,
     "metadata": {},
     "output_type": "execute_result"
    }
   ],
   "source": [
    "std = pd.np.sqrt((pd.concat([dfDG, ionDG])['std'] **2).sum())\n",
    "std"
   ]
  },
  {
   "cell_type": "code",
   "execution_count": 60,
   "metadata": {},
   "outputs": [
    {
     "data": {
      "image/png": "[encoded data removed]",
      "text/latex": [
       "$$0.052175155794$$"
      ],
      "text/plain": [
       "0.052175155794"
      ]
     },
     "execution_count": 60,
     "metadata": {},
     "output_type": "execute_result"
    }
   ],
   "source": [
    "var = std**2\n",
    "var"
   ]
  },
  {
   "cell_type": "code",
   "execution_count": 61,
   "metadata": {},
   "outputs": [
    {
     "data": {
      "image/png": "[encoded data removed]",
      "text/latex": [
       "$$44.9450574792$$"
      ],
      "text/plain": [
       "44.9450574792"
      ]
     },
     "execution_count": 61,
     "metadata": {},
     "output_type": "execute_result"
    }
   ],
   "source": [
    "DG_unbind = (pd.concat([dfDG, ionDG])['DG'].sum() + DG_r_unbind)\n",
    "DG_unbind"
   ]
  },
  {
   "cell_type": "markdown",
   "metadata": {},
   "source": [
    "Here we have calculated the unbinding free energy in the S2 IF state. So the binding free energy is the negative of the value shown. The rest of the calculations are effectively repeats of this protocol."
   ]
  },
  {
   "cell_type": "markdown",
   "metadata": {},
   "source": [
    "## S4 IF"
   ]
  },
  {
   "cell_type": "code",
   "execution_count": 63,
   "metadata": {
    "collapsed": true
   },
   "outputs": [],
   "source": [
    "state = 's4if'"
   ]
  },
  {
   "cell_type": "code",
   "execution_count": 64,
   "metadata": {
    "collapsed": true
   },
   "outputs": [],
   "source": [
    "dfs = []\n",
    "for seg in DG[state]:\n",
    "    df = DG[state][seg]\n",
    "    df['segment'] = seg\n",
    "    dfs.append(df)"
   ]
  },
  {
   "cell_type": "code",
   "execution_count": 65,
   "metadata": {
    "collapsed": true
   },
   "outputs": [],
   "source": [
    "dfDG = pd.concat(dfs)"
   ]
  },
  {
   "cell_type": "code",
   "execution_count": 66,
   "metadata": {
    "collapsed": true
   },
   "outputs": [],
   "source": [
    "dfDG = dfDG.set_index('segment')"
   ]
  },
  {
   "cell_type": "code",
   "execution_count": 67,
   "metadata": {
    "collapsed": true
   },
   "outputs": [],
   "source": [
    "order = ['unrestrained_to_restrained', \n",
    "         'restrained_to_repulsion',\n",
    "         'repulsion_to_ghostrepulsion']"
   ]
  },
  {
   "cell_type": "code",
   "execution_count": 68,
   "metadata": {
    "collapsed": true
   },
   "outputs": [],
   "source": [
    "dfDG = dfDG.loc[order]"
   ]
  },
  {
   "cell_type": "code",
   "execution_count": 70,
   "metadata": {
    "scrolled": true
   },
   "outputs": [
    {
     "data": {
      "text/html": [
       "<div>\n",
       "<table border=\"1\" class=\"dataframe\">\n",
       "  <thead>\n",
       "    <tr style=\"text-align: right;\">\n",
       "      <th></th>\n",
       "      <th>DG</th>\n",
       "      <th>std</th>\n",
       "    </tr>\n",
       "    <tr>\n",
       "      <th>segment</th>\n",
       "      <th></th>\n",
       "      <th></th>\n",
       "    </tr>\n",
       "  </thead>\n",
       "  <tbody>\n",
       "    <tr>\n",
       "      <th>unrestrained_to_restrained</th>\n",
       "      <td>11.761585</td>\n",
       "      <td>0.047235</td>\n",
       "    </tr>\n",
       "    <tr>\n",
       "      <th>restrained_to_repulsion</th>\n",
       "      <td>0.000371</td>\n",
       "      <td>0.000102</td>\n",
       "    </tr>\n",
       "    <tr>\n",
       "      <th>repulsion_to_ghostrepulsion</th>\n",
       "      <td>479.045975</td>\n",
       "      <td>0.072704</td>\n",
       "    </tr>\n",
       "  </tbody>\n",
       "</table>\n",
       "</div>"
      ],
      "text/plain": [
       "                                     DG       std\n",
       "segment                                          \n",
       "unrestrained_to_restrained    11.761585  0.047235\n",
       "restrained_to_repulsion        0.000371  0.000102\n",
       "repulsion_to_ghostrepulsion  479.045975  0.072704"
      ]
     },
     "execution_count": 70,
     "metadata": {},
     "output_type": "execute_result"
    }
   ],
   "source": [
    "dfDG"
   ]
  },
  {
   "cell_type": "code",
   "execution_count": 71,
   "metadata": {},
   "outputs": [
    {
     "data": {
      "image/png": "[encoded data removed]",
      "text/latex": [
       "$$116.456856051$$"
      ],
      "text/plain": [
       "116.456856051"
      ]
     },
     "execution_count": 71,
     "metadata": {},
     "output_type": "execute_result"
    }
   ],
   "source": [
    "pd.concat([dfDG, ionDG])['DG'].sum()"
   ]
  },
  {
   "cell_type": "code",
   "execution_count": 72,
   "metadata": {},
   "outputs": [
    {
     "data": {
      "image/png": "[encoded data removed]",
      "text/latex": [
       "$$0.233099406072$$"
      ],
      "text/plain": [
       "0.233099406072"
      ]
     },
     "execution_count": 72,
     "metadata": {},
     "output_type": "execute_result"
    }
   ],
   "source": [
    "pd.np.sqrt((pd.concat([dfDG, ionDG])['std'] **2).sum())"
   ]
  },
  {
   "cell_type": "code",
   "execution_count": 73,
   "metadata": {},
   "outputs": [
    {
     "data": {
      "image/png": "[encoded data removed]",
      "text/latex": [
       "$$98.6133225274$$"
      ],
      "text/plain": [
       "98.6133225274"
      ]
     },
     "execution_count": 73,
     "metadata": {},
     "output_type": "execute_result"
    }
   ],
   "source": [
    "DG_unbind = (pd.concat([dfDG, ionDG])['DG'].sum() + DG_r_unbind)\n",
    "DG_unbind"
   ]
  },
  {
   "cell_type": "markdown",
   "metadata": {},
   "source": [
    "## S2 OF"
   ]
  },
  {
   "cell_type": "code",
   "execution_count": 74,
   "metadata": {
    "collapsed": true
   },
   "outputs": [],
   "source": [
    "state = 's2of'"
   ]
  },
  {
   "cell_type": "code",
   "execution_count": 75,
   "metadata": {
    "collapsed": true
   },
   "outputs": [],
   "source": [
    "dfs = []\n",
    "for seg in DG[state]:\n",
    "    df = DG[state][seg]\n",
    "    df['segment'] = seg\n",
    "    dfs.append(df)"
   ]
  },
  {
   "cell_type": "code",
   "execution_count": 76,
   "metadata": {
    "collapsed": true
   },
   "outputs": [],
   "source": [
    "dfDG = pd.concat(dfs)"
   ]
  },
  {
   "cell_type": "code",
   "execution_count": 77,
   "metadata": {
    "collapsed": true
   },
   "outputs": [],
   "source": [
    "dfDG = dfDG.set_index('segment')"
   ]
  },
  {
   "cell_type": "code",
   "execution_count": 78,
   "metadata": {
    "collapsed": true
   },
   "outputs": [],
   "source": [
    "order = ['unrestrained_to_restrained', \n",
    "         'restrained_to_repulsion',\n",
    "         'repulsion_to_ghostrepulsion']"
   ]
  },
  {
   "cell_type": "code",
   "execution_count": 79,
   "metadata": {
    "collapsed": true
   },
   "outputs": [],
   "source": [
    "dfDG = dfDG.loc[order]"
   ]
  },
  {
   "cell_type": "code",
   "execution_count": 80,
   "metadata": {
    "scrolled": true
   },
   "outputs": [
    {
     "data": {
      "text/html": [
       "<div>\n",
       "<table border=\"1\" class=\"dataframe\">\n",
       "  <thead>\n",
       "    <tr style=\"text-align: right;\">\n",
       "      <th></th>\n",
       "      <th>DG</th>\n",
       "      <th>std</th>\n",
       "    </tr>\n",
       "    <tr>\n",
       "      <th>segment</th>\n",
       "      <th></th>\n",
       "      <th></th>\n",
       "    </tr>\n",
       "  </thead>\n",
       "  <tbody>\n",
       "    <tr>\n",
       "      <th>unrestrained_to_restrained</th>\n",
       "      <td>3.159437</td>\n",
       "      <td>0.065445</td>\n",
       "    </tr>\n",
       "    <tr>\n",
       "      <th>restrained_to_repulsion</th>\n",
       "      <td>0.000090</td>\n",
       "      <td>0.000064</td>\n",
       "    </tr>\n",
       "    <tr>\n",
       "      <th>repulsion_to_ghostrepulsion</th>\n",
       "      <td>419.959237</td>\n",
       "      <td>0.067933</td>\n",
       "    </tr>\n",
       "  </tbody>\n",
       "</table>\n",
       "</div>"
      ],
      "text/plain": [
       "                                     DG       std\n",
       "segment                                          \n",
       "unrestrained_to_restrained     3.159437  0.065445\n",
       "restrained_to_repulsion        0.000090  0.000064\n",
       "repulsion_to_ghostrepulsion  419.959237  0.067933"
      ]
     },
     "execution_count": 80,
     "metadata": {},
     "output_type": "execute_result"
    }
   ],
   "source": [
    "dfDG"
   ]
  },
  {
   "cell_type": "code",
   "execution_count": 81,
   "metadata": {},
   "outputs": [
    {
     "data": {
      "image/png": "[encoded data removed]",
      "text/latex": [
       "$$48.7676891503$$"
      ],
      "text/plain": [
       "48.7676891503"
      ]
     },
     "execution_count": 81,
     "metadata": {},
     "output_type": "execute_result"
    }
   ],
   "source": [
    "pd.concat([dfDG, ionDG])['DG'].sum()"
   ]
  },
  {
   "cell_type": "code",
   "execution_count": 82,
   "metadata": {},
   "outputs": [
    {
     "data": {
      "image/png": "[encoded data removed]",
      "text/latex": [
       "$$0.236042921835$$"
      ],
      "text/plain": [
       "0.236042921835"
      ]
     },
     "execution_count": 82,
     "metadata": {},
     "output_type": "execute_result"
    }
   ],
   "source": [
    "pd.np.sqrt((pd.concat([dfDG, ionDG])['std'] **2).sum())"
   ]
  },
  {
   "cell_type": "code",
   "execution_count": 83,
   "metadata": {},
   "outputs": [
    {
     "data": {
      "image/png": "[encoded data removed]",
      "text/latex": [
       "$$30.9241556272$$"
      ],
      "text/plain": [
       "30.9241556272"
      ]
     },
     "execution_count": 83,
     "metadata": {},
     "output_type": "execute_result"
    }
   ],
   "source": [
    "DG_unbind = (pd.concat([dfDG, ionDG])['DG'].sum() + DG_r_unbind)\n",
    "DG_unbind"
   ]
  },
  {
   "cell_type": "markdown",
   "metadata": {},
   "source": [
    "## S4 OF"
   ]
  },
  {
   "cell_type": "code",
   "execution_count": 84,
   "metadata": {
    "collapsed": true
   },
   "outputs": [],
   "source": [
    "state = 's4of'"
   ]
  },
  {
   "cell_type": "code",
   "execution_count": 85,
   "metadata": {
    "collapsed": true
   },
   "outputs": [],
   "source": [
    "dfs = []\n",
    "for seg in DG[state]:\n",
    "    df = DG[state][seg]\n",
    "    df['segment'] = seg\n",
    "    dfs.append(df)"
   ]
  },
  {
   "cell_type": "code",
   "execution_count": 86,
   "metadata": {
    "collapsed": true
   },
   "outputs": [],
   "source": [
    "dfDG = pd.concat(dfs)"
   ]
  },
  {
   "cell_type": "code",
   "execution_count": 87,
   "metadata": {
    "collapsed": true
   },
   "outputs": [],
   "source": [
    "dfDG = dfDG.set_index('segment')"
   ]
  },
  {
   "cell_type": "code",
   "execution_count": 88,
   "metadata": {
    "collapsed": true
   },
   "outputs": [],
   "source": [
    "order = ['unrestrained_to_restrained', \n",
    "         'restrained_to_repulsion',\n",
    "         'repulsion_to_ghostrepulsion']"
   ]
  },
  {
   "cell_type": "code",
   "execution_count": 89,
   "metadata": {
    "collapsed": true
   },
   "outputs": [],
   "source": [
    "dfDG = dfDG.loc[order]"
   ]
  },
  {
   "cell_type": "code",
   "execution_count": 90,
   "metadata": {
    "scrolled": true
   },
   "outputs": [
    {
     "data": {
      "text/html": [
       "<div>\n",
       "<table border=\"1\" class=\"dataframe\">\n",
       "  <thead>\n",
       "    <tr style=\"text-align: right;\">\n",
       "      <th></th>\n",
       "      <th>DG</th>\n",
       "      <th>std</th>\n",
       "    </tr>\n",
       "    <tr>\n",
       "      <th>segment</th>\n",
       "      <th></th>\n",
       "      <th></th>\n",
       "    </tr>\n",
       "  </thead>\n",
       "  <tbody>\n",
       "    <tr>\n",
       "      <th>unrestrained_to_restrained</th>\n",
       "      <td>13.293795</td>\n",
       "      <td>0.189712</td>\n",
       "    </tr>\n",
       "    <tr>\n",
       "      <th>restrained_to_repulsion</th>\n",
       "      <td>-0.000058</td>\n",
       "      <td>0.000207</td>\n",
       "    </tr>\n",
       "    <tr>\n",
       "      <th>repulsion_to_ghostrepulsion</th>\n",
       "      <td>421.070558</td>\n",
       "      <td>0.069138</td>\n",
       "    </tr>\n",
       "  </tbody>\n",
       "</table>\n",
       "</div>"
      ],
      "text/plain": [
       "                                     DG       std\n",
       "segment                                          \n",
       "unrestrained_to_restrained    13.293795  0.189712\n",
       "restrained_to_repulsion       -0.000058  0.000207\n",
       "repulsion_to_ghostrepulsion  421.070558  0.069138"
      ]
     },
     "execution_count": 90,
     "metadata": {},
     "output_type": "execute_result"
    }
   ],
   "source": [
    "dfDG"
   ]
  },
  {
   "cell_type": "code",
   "execution_count": 91,
   "metadata": {},
   "outputs": [
    {
     "data": {
      "image/png": "[encoded data removed]",
      "text/latex": [
       "$$60.0132199648$$"
      ],
      "text/plain": [
       "60.0132199648"
      ]
     },
     "execution_count": 91,
     "metadata": {},
     "output_type": "execute_result"
    }
   ],
   "source": [
    "pd.concat([dfDG, ionDG])['DG'].sum()"
   ]
  },
  {
   "cell_type": "code",
   "execution_count": 92,
   "metadata": {},
   "outputs": [
    {
     "data": {
      "image/png": "[encoded data removed]",
      "text/latex": [
       "$$0.295954887645$$"
      ],
      "text/plain": [
       "0.295954887645"
      ]
     },
     "execution_count": 92,
     "metadata": {},
     "output_type": "execute_result"
    }
   ],
   "source": [
    "pd.np.sqrt((pd.concat([dfDG, ionDG])['std'] **2).sum())"
   ]
  },
  {
   "cell_type": "code",
   "execution_count": 93,
   "metadata": {},
   "outputs": [
    {
     "data": {
      "image/png": "[encoded data removed]",
      "text/latex": [
       "$$42.1696864417$$"
      ],
      "text/plain": [
       "42.1696864417"
      ]
     },
     "execution_count": 93,
     "metadata": {},
     "output_type": "execute_result"
    }
   ],
   "source": [
    "DG_unbind = (pd.concat([dfDG, ionDG])['DG'].sum() + DG_r_unbind)\n",
    "DG_unbind"
   ]
  },
  {
   "cell_type": "code",
   "execution_count": null,
   "metadata": {
    "collapsed": true
   },
   "outputs": [],
   "source": []
  }
 ],
 "metadata": {
  "kernelspec": {
   "display_name": "Python 2",
   "language": "python",
   "name": "python2"
  },
  "language_info": {
   "codemirror_mode": {
    "name": "ipython",
    "version": 2
   },
   "file_extension": ".py",
   "mimetype": "text/x-python",
   "name": "python",
   "nbconvert_exporter": "python",
   "pygments_lexer": "ipython2",
   "version": "2.7.12"
  }
 },
 "nbformat": 4,
 "nbformat_minor": 2
}
